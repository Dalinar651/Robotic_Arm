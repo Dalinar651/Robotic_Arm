{
 "cells": [
  {
   "cell_type": "code",
   "execution_count": null,
   "id": "bacterial-studio",
   "metadata": {},
   "outputs": [],
   "source": [
    "from os import listdir\n",
    "from os.path import isdir, join\n",
    "from tensorflow.keras import layers, models\n",
    "import numpy as np"
   ]
  },
  {
   "cell_type": "code",
   "execution_count": null,
   "id": "focal-waterproof",
   "metadata": {},
   "outputs": [],
   "source": [
    "dataset_path = 'C:/Users/USER/Downloads/Compressed/speech_commands_v0.02'\n",
    "all_targets = [name for name in listdir(dataset_path) if isdir(join(dataset_path, name))]\n",
    "print(all_targets)"
   ]
  },
  {
   "cell_type": "code",
   "execution_count": 3,
   "id": "regulation-immune",
   "metadata": {},
   "outputs": [
    {
     "data": {
      "text/plain": [
       "['down', 'left', 'right', 'stop', 'up']"
      ]
     },
     "execution_count": 3,
     "metadata": {},
     "output_type": "execute_result"
    }
   ],
   "source": [
    "commands = [all_targets[i] for i in [0,9,15,19,20,22,26,-1]]\n",
    "commands"
   ]
  },
  {
   "cell_type": "code",
   "execution_count": 4,
   "id": "widespread-petersburg",
   "metadata": {},
   "outputs": [],
   "source": [
    "# Settings\n",
    "feature_sets_filename = 'commands_mfcc_sets.npz'\n",
    "model_filename ='command_detection_model.h5'\n",
    "labels = ['down', 'left', 'right', 'stop', 'up']"
   ]
  },
  {
   "cell_type": "code",
   "execution_count": 5,
   "id": "noticed-indie",
   "metadata": {},
   "outputs": [
    {
     "name": "stdout",
     "output_type": "stream",
     "text": [
      "['x_train', 'y_train', 'x_val', 'y_val', 'x_test', 'y_test']\n"
     ]
    }
   ],
   "source": [
    "feature_sets = np.load(feature_sets_filename)\n",
    "print(feature_sets.files)"
   ]
  },
  {
   "cell_type": "code",
   "execution_count": 6,
   "id": "frozen-booth",
   "metadata": {},
   "outputs": [],
   "source": [
    "x_train = feature_sets['x_train']\n",
    "y_train = feature_sets['y_train']\n",
    "x_val = feature_sets['x_val']\n",
    "y_val = feature_sets['y_val']\n",
    "x_test = feature_sets['x_test']\n",
    "y_test = feature_sets['y_test']"
   ]
  },
  {
   "cell_type": "code",
   "execution_count": 7,
   "id": "auburn-milwaukee",
   "metadata": {},
   "outputs": [
    {
     "name": "stdout",
     "output_type": "stream",
     "text": [
      "(8738, 16, 16, 1)\n",
      "(1092, 16, 16, 1)\n",
      "(1081, 16, 16, 1)\n"
     ]
    }
   ],
   "source": [
    "# CNN for TF expects (batch, height, width, channels)\n",
    "# So we reshape the input tensors with a \"color\" channel of 1\n",
    "x_train = x_train.reshape(x_train.shape[0], \n",
    "                          x_train.shape[1], \n",
    "                          x_train.shape[2], \n",
    "                          1)\n",
    "x_val = x_val.reshape(x_val.shape[0], \n",
    "                      x_val.shape[1], \n",
    "                      x_val.shape[2], \n",
    "                      1)\n",
    "x_test = x_test.reshape(x_test.shape[0], \n",
    "                        x_test.shape[1], \n",
    "                        x_test.shape[2], \n",
    "                        1)\n",
    "print(x_train.shape)\n",
    "print(x_val.shape)\n",
    "print(x_test.shape)"
   ]
  },
  {
   "cell_type": "code",
   "execution_count": 8,
   "id": "frequent-duplicate",
   "metadata": {},
   "outputs": [
    {
     "name": "stdout",
     "output_type": "stream",
     "text": [
      "(16, 16, 1)\n"
     ]
    }
   ],
   "source": [
    "sample_shape = x_train.shape[1:]\n",
    "print(sample_shape)"
   ]
  },
  {
   "cell_type": "code",
   "execution_count": 9,
   "id": "virtual-macedonia",
   "metadata": {},
   "outputs": [],
   "source": [
    "model = models.Sequential()\n",
    "model.add(layers.Conv2D(32, (2, 2), activation='relu', input_shape=sample_shape))\n",
    "model.add(layers.MaxPooling2D(pool_size=(2, 2)))\n",
    "\n",
    "model.add(layers.Conv2D(32, (2, 2), activation='relu'))\n",
    "model.add(layers.MaxPooling2D(pool_size=(2, 2)))\n",
    "\n",
    "model.add(layers.Conv2D(64, (2, 2), activation='relu'))\n",
    "model.add(layers.MaxPooling2D(pool_size=(2, 2)))\n",
    "\n",
    "# Classifier\n",
    "model.add(layers.Flatten())\n",
    "model.add(layers.Dense(64, activation='relu'))\n",
    "model.add(layers.Dropout(0.5))\n",
    "model.add(layers.Dense(5, activation='softmax'))"
   ]
  },
  {
   "cell_type": "code",
   "execution_count": 13,
   "id": "interested-engineering",
   "metadata": {},
   "outputs": [],
   "source": [
    "model.compile(loss='sparse_categorical_crossentropy', \n",
    "              optimizer='adam', \n",
    "              metrics=['accuracy'])"
   ]
  },
  {
   "cell_type": "code",
   "execution_count": 16,
   "id": "governmental-brick",
   "metadata": {},
   "outputs": [
    {
     "name": "stdout",
     "output_type": "stream",
     "text": [
      "Epoch 1/50\n",
      "88/88 [==============================] - 1s 13ms/step - loss: 0.1220 - accuracy: 0.9556 - val_loss: 0.2312 - val_accuracy: 0.9222\n",
      "Epoch 2/50\n",
      "88/88 [==============================] - 1s 12ms/step - loss: 0.1194 - accuracy: 0.9604 - val_loss: 0.2222 - val_accuracy: 0.9313\n",
      "Epoch 3/50\n",
      "88/88 [==============================] - 1s 13ms/step - loss: 0.1138 - accuracy: 0.9587 - val_loss: 0.2431 - val_accuracy: 0.9240\n",
      "Epoch 4/50\n",
      "88/88 [==============================] - 1s 12ms/step - loss: 0.1094 - accuracy: 0.9602 - val_loss: 0.2457 - val_accuracy: 0.9231\n",
      "Epoch 5/50\n",
      "88/88 [==============================] - 1s 12ms/step - loss: 0.1020 - accuracy: 0.9645 - val_loss: 0.2347 - val_accuracy: 0.9304\n",
      "Epoch 6/50\n",
      "88/88 [==============================] - 1s 12ms/step - loss: 0.1065 - accuracy: 0.9636 - val_loss: 0.2539 - val_accuracy: 0.9222\n",
      "Epoch 7/50\n",
      "88/88 [==============================] - 1s 13ms/step - loss: 0.0901 - accuracy: 0.9690 - val_loss: 0.2639 - val_accuracy: 0.9212\n",
      "Epoch 8/50\n",
      "88/88 [==============================] - 1s 14ms/step - loss: 0.0931 - accuracy: 0.9697 - val_loss: 0.2799 - val_accuracy: 0.9176\n",
      "Epoch 9/50\n",
      "88/88 [==============================] - 1s 13ms/step - loss: 0.0899 - accuracy: 0.9686 - val_loss: 0.2803 - val_accuracy: 0.9212\n",
      "Epoch 10/50\n",
      "88/88 [==============================] - 1s 13ms/step - loss: 0.0804 - accuracy: 0.9709 - val_loss: 0.2579 - val_accuracy: 0.9304\n",
      "Epoch 11/50\n",
      "88/88 [==============================] - 1s 13ms/step - loss: 0.0827 - accuracy: 0.9712 - val_loss: 0.2556 - val_accuracy: 0.9341\n",
      "Epoch 12/50\n",
      "88/88 [==============================] - 1s 13ms/step - loss: 0.0705 - accuracy: 0.9755 - val_loss: 0.2774 - val_accuracy: 0.9258\n",
      "Epoch 13/50\n",
      "88/88 [==============================] - 1s 13ms/step - loss: 0.0735 - accuracy: 0.9760 - val_loss: 0.2777 - val_accuracy: 0.9304\n",
      "Epoch 14/50\n",
      "88/88 [==============================] - 1s 13ms/step - loss: 0.0835 - accuracy: 0.9731 - val_loss: 0.3144 - val_accuracy: 0.9148\n",
      "Epoch 15/50\n",
      "88/88 [==============================] - 1s 13ms/step - loss: 0.0837 - accuracy: 0.9713 - val_loss: 0.2719 - val_accuracy: 0.9258\n",
      "Epoch 16/50\n",
      "88/88 [==============================] - 1s 13ms/step - loss: 0.0817 - accuracy: 0.9715 - val_loss: 0.2849 - val_accuracy: 0.9231\n",
      "Epoch 17/50\n",
      "88/88 [==============================] - 1s 12ms/step - loss: 0.0727 - accuracy: 0.9751 - val_loss: 0.3336 - val_accuracy: 0.9158\n",
      "Epoch 18/50\n",
      "88/88 [==============================] - 1s 12ms/step - loss: 0.0579 - accuracy: 0.9803 - val_loss: 0.3260 - val_accuracy: 0.9231\n",
      "Epoch 19/50\n",
      "88/88 [==============================] - 1s 12ms/step - loss: 0.0623 - accuracy: 0.9795 - val_loss: 0.3079 - val_accuracy: 0.9212\n",
      "Epoch 20/50\n",
      "88/88 [==============================] - 1s 12ms/step - loss: 0.0624 - accuracy: 0.9770 - val_loss: 0.3015 - val_accuracy: 0.9249\n",
      "Epoch 21/50\n",
      "88/88 [==============================] - 1s 13ms/step - loss: 0.0536 - accuracy: 0.9815 - val_loss: 0.3788 - val_accuracy: 0.9167\n",
      "Epoch 22/50\n",
      "88/88 [==============================] - 1s 13ms/step - loss: 0.0650 - accuracy: 0.9764 - val_loss: 0.2883 - val_accuracy: 0.9240\n",
      "Epoch 23/50\n",
      "88/88 [==============================] - 1s 14ms/step - loss: 0.0582 - accuracy: 0.9796 - val_loss: 0.2807 - val_accuracy: 0.9258\n",
      "Epoch 24/50\n",
      "88/88 [==============================] - 1s 13ms/step - loss: 0.0505 - accuracy: 0.9836 - val_loss: 0.3172 - val_accuracy: 0.9258\n",
      "Epoch 25/50\n",
      "88/88 [==============================] - 1s 13ms/step - loss: 0.0589 - accuracy: 0.9813 - val_loss: 0.3088 - val_accuracy: 0.9277\n",
      "Epoch 26/50\n",
      "88/88 [==============================] - 1s 14ms/step - loss: 0.0424 - accuracy: 0.9849 - val_loss: 0.3462 - val_accuracy: 0.9240\n",
      "Epoch 27/50\n",
      "88/88 [==============================] - 1s 13ms/step - loss: 0.0601 - accuracy: 0.9795 - val_loss: 0.3050 - val_accuracy: 0.9377\n",
      "Epoch 28/50\n",
      "88/88 [==============================] - 1s 12ms/step - loss: 0.0453 - accuracy: 0.9855 - val_loss: 0.2915 - val_accuracy: 0.9313\n",
      "Epoch 29/50\n",
      "88/88 [==============================] - 1s 13ms/step - loss: 0.0451 - accuracy: 0.9850 - val_loss: 0.3276 - val_accuracy: 0.9222\n",
      "Epoch 30/50\n",
      "88/88 [==============================] - 1s 13ms/step - loss: 0.0459 - accuracy: 0.9844 - val_loss: 0.3153 - val_accuracy: 0.9304\n",
      "Epoch 31/50\n",
      "88/88 [==============================] - 1s 13ms/step - loss: 0.0560 - accuracy: 0.9801 - val_loss: 0.3712 - val_accuracy: 0.9194\n",
      "Epoch 32/50\n",
      "88/88 [==============================] - 1s 13ms/step - loss: 0.0376 - accuracy: 0.9879 - val_loss: 0.3311 - val_accuracy: 0.9304\n",
      "Epoch 33/50\n",
      "88/88 [==============================] - 1s 13ms/step - loss: 0.0319 - accuracy: 0.9908 - val_loss: 0.3740 - val_accuracy: 0.9231\n",
      "Epoch 34/50\n",
      "88/88 [==============================] - 1s 13ms/step - loss: 0.0447 - accuracy: 0.9847 - val_loss: 0.3723 - val_accuracy: 0.9194\n",
      "Epoch 35/50\n",
      "88/88 [==============================] - 1s 13ms/step - loss: 0.0538 - accuracy: 0.9818 - val_loss: 0.3566 - val_accuracy: 0.9304\n",
      "Epoch 36/50\n",
      "88/88 [==============================] - 1s 14ms/step - loss: 0.0527 - accuracy: 0.9836 - val_loss: 0.3754 - val_accuracy: 0.9258\n",
      "Epoch 37/50\n",
      "88/88 [==============================] - 1s 14ms/step - loss: 0.0348 - accuracy: 0.9887 - val_loss: 0.3682 - val_accuracy: 0.9313\n",
      "Epoch 38/50\n",
      "88/88 [==============================] - 1s 13ms/step - loss: 0.0334 - accuracy: 0.9906 - val_loss: 0.3707 - val_accuracy: 0.9222\n",
      "Epoch 39/50\n",
      "88/88 [==============================] - 1s 13ms/step - loss: 0.0395 - accuracy: 0.9867 - val_loss: 0.3885 - val_accuracy: 0.9295\n",
      "Epoch 40/50\n",
      "88/88 [==============================] - 1s 13ms/step - loss: 0.0523 - accuracy: 0.9816 - val_loss: 0.3229 - val_accuracy: 0.9368\n",
      "Epoch 41/50\n",
      "88/88 [==============================] - 1s 14ms/step - loss: 0.0357 - accuracy: 0.9872 - val_loss: 0.4188 - val_accuracy: 0.9258\n",
      "Epoch 42/50\n",
      "88/88 [==============================] - 1s 13ms/step - loss: 0.0476 - accuracy: 0.9859 - val_loss: 0.4309 - val_accuracy: 0.9222\n",
      "Epoch 43/50\n",
      "88/88 [==============================] - 1s 13ms/step - loss: 0.0399 - accuracy: 0.9874 - val_loss: 0.3533 - val_accuracy: 0.9286\n",
      "Epoch 44/50\n",
      "88/88 [==============================] - 1s 13ms/step - loss: 0.0311 - accuracy: 0.9891 - val_loss: 0.3759 - val_accuracy: 0.9368\n",
      "Epoch 45/50\n",
      "88/88 [==============================] - 1s 13ms/step - loss: 0.0356 - accuracy: 0.9888 - val_loss: 0.3932 - val_accuracy: 0.9359\n",
      "Epoch 46/50\n",
      "88/88 [==============================] - 1s 13ms/step - loss: 0.0313 - accuracy: 0.9894 - val_loss: 0.4063 - val_accuracy: 0.9313\n",
      "Epoch 47/50\n",
      "88/88 [==============================] - 1s 13ms/step - loss: 0.0265 - accuracy: 0.9918 - val_loss: 0.3983 - val_accuracy: 0.9332\n",
      "Epoch 48/50\n",
      "88/88 [==============================] - 1s 13ms/step - loss: 0.0412 - accuracy: 0.9871 - val_loss: 0.4152 - val_accuracy: 0.9249\n",
      "Epoch 49/50\n",
      "88/88 [==============================] - 1s 13ms/step - loss: 0.0369 - accuracy: 0.9892 - val_loss: 0.3864 - val_accuracy: 0.9322\n",
      "Epoch 50/50\n",
      "88/88 [==============================] - 1s 14ms/step - loss: 0.0383 - accuracy: 0.9873 - val_loss: 0.4426 - val_accuracy: 0.9277\n"
     ]
    }
   ],
   "source": [
    "history = model.fit(x_train, \n",
    "                    y_train, \n",
    "                    epochs=50, \n",
    "                    batch_size=100, \n",
    "                    validation_data=(x_val, y_val))"
   ]
  },
  {
   "cell_type": "code",
   "execution_count": 17,
   "id": "stable-viewer",
   "metadata": {},
   "outputs": [
    {
     "name": "stdout",
     "output_type": "stream",
     "text": [
      "34/34 [==============================] - 0s 2ms/step - loss: 0.6064 - accuracy: 0.9047\n"
     ]
    },
    {
     "data": {
      "text/plain": [
       "[0.6064109802246094, 0.9047178626060486]"
      ]
     },
     "execution_count": 17,
     "metadata": {},
     "output_type": "execute_result"
    }
   ],
   "source": [
    "model.evaluate(x_test, y_test)"
   ]
  },
  {
   "cell_type": "code",
   "execution_count": null,
   "id": "exempt-ethnic",
   "metadata": {},
   "outputs": [],
   "source": []
  }
 ],
 "metadata": {
  "kernelspec": {
   "display_name": "Python 3",
   "language": "python",
   "name": "python3"
  },
  "language_info": {
   "codemirror_mode": {
    "name": "ipython",
    "version": 3
   },
   "file_extension": ".py",
   "mimetype": "text/x-python",
   "name": "python",
   "nbconvert_exporter": "python",
   "pygments_lexer": "ipython3",
   "version": "3.7.9"
  }
 },
 "nbformat": 4,
 "nbformat_minor": 5
}

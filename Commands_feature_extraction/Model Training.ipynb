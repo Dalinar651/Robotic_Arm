{
 "cells": [
  {
   "cell_type": "code",
   "execution_count": 3,
   "id": "bacterial-studio",
   "metadata": {},
   "outputs": [],
   "source": [
    "from os import listdir\n",
    "from os.path import isdir, join\n",
    "from tensorflow.keras import layers, models\n",
    "import numpy as np"
   ]
  },
  {
   "cell_type": "code",
   "execution_count": 4,
   "id": "focal-waterproof",
   "metadata": {},
   "outputs": [
    {
     "name": "stdout",
     "output_type": "stream",
     "text": [
      "['backward', 'bed', 'bird', 'cat', 'dog', 'down', 'eight', 'five', 'follow', 'forward', 'four', 'go', 'happy', 'house', 'learn', 'left', 'marvin', 'nine', 'no', 'off', 'on', 'one', 'right', 'seven', 'sheila', 'six', 'stop', 'three', 'tree', 'two', 'up', 'visual', 'wow', 'yes', 'zero', '_background_noise_']\n"
     ]
    }
   ],
   "source": [
    "dataset_path = 'C:/Users/USER/Downloads/Compressed/speech_commands_v0.02'\n",
    "all_targets = [name for name in listdir(dataset_path) if isdir(join(dataset_path, name))]\n",
    "print(all_targets)"
   ]
  },
  {
   "cell_type": "code",
   "execution_count": 5,
   "id": "regulation-immune",
   "metadata": {},
   "outputs": [
    {
     "data": {
      "text/plain": [
       "['backward',\n",
       " 'forward',\n",
       " 'left',\n",
       " 'off',\n",
       " 'on',\n",
       " 'right',\n",
       " 'stop',\n",
       " '_background_noise_']"
      ]
     },
     "execution_count": 5,
     "metadata": {},
     "output_type": "execute_result"
    }
   ],
   "source": [
    "commands = [all_targets[i] for i in [0,9,15,19,20,22,26,-1]]\n",
    "commands"
   ]
  },
  {
   "cell_type": "code",
   "execution_count": 7,
   "id": "widespread-petersburg",
   "metadata": {},
   "outputs": [],
   "source": [
    "# Settings\n",
    "feature_sets_filename = 'commands_mfcc_sets.npz'\n",
    "model_filename ='command_detection_model.h5'\n",
    "labels model_filename= ['backward','forward','left','off', 'on','right','stop','silence']"
   ]
  },
  {
   "cell_type": "code",
   "execution_count": 8,
   "id": "noticed-indie",
   "metadata": {},
   "outputs": [
    {
     "name": "stdout",
     "output_type": "stream",
     "text": [
      "['x_train', 'y_train', 'x_val', 'y_val', 'x_test', 'y_test']\n"
     ]
    }
   ],
   "source": [
    "feature_sets = np.load(feature_sets_filename)\n",
    "print(feature_sets.files)"
   ]
  },
  {
   "cell_type": "code",
   "execution_count": 9,
   "id": "frozen-booth",
   "metadata": {},
   "outputs": [],
   "source": [
    "x_train = feature_sets['x_train']\n",
    "y_train = feature_sets['y_train']\n",
    "x_val = feature_sets['x_val']\n",
    "y_val = feature_sets['y_val']\n",
    "x_test = feature_sets['x_test']\n",
    "y_test = feature_sets['y_test']"
   ]
  },
  {
   "cell_type": "code",
   "execution_count": 10,
   "id": "auburn-milwaukee",
   "metadata": {},
   "outputs": [
    {
     "name": "stdout",
     "output_type": "stream",
     "text": [
      "(16835, 16, 16, 1)\n",
      "(2110, 16, 16, 1)\n",
      "(2118, 16, 16, 1)\n"
     ]
    }
   ],
   "source": [
    "# CNN for TF expects (batch, height, width, channels)\n",
    "# So we reshape the input tensors with a \"color\" channel of 1\n",
    "x_train = x_train.reshape(x_train.shape[0], \n",
    "                          x_train.shape[1], \n",
    "                          x_train.shape[2], \n",
    "                          1)\n",
    "x_val = x_val.reshape(x_val.shape[0], \n",
    "                      x_val.shape[1], \n",
    "                      x_val.shape[2], \n",
    "                      1)\n",
    "x_test = x_test.reshape(x_test.shape[0], \n",
    "                        x_test.shape[1], \n",
    "                        x_test.shape[2], \n",
    "                        1)\n",
    "print(x_train.shape)\n",
    "print(x_val.shape)\n",
    "print(x_test.shape)"
   ]
  },
  {
   "cell_type": "code",
   "execution_count": 11,
   "id": "frequent-duplicate",
   "metadata": {},
   "outputs": [
    {
     "name": "stdout",
     "output_type": "stream",
     "text": [
      "(16, 16, 1)\n"
     ]
    }
   ],
   "source": [
    "sample_shape = x_train.shape[1:]\n",
    "print(sample_shape)"
   ]
  },
  {
   "cell_type": "code",
   "execution_count": 12,
   "id": "virtual-macedonia",
   "metadata": {},
   "outputs": [
    {
     "name": "stdout",
     "output_type": "stream",
     "text": [
      "WARNING:tensorflow:From c:\\users\\user\\appdata\\local\\programs\\python\\python37\\lib\\site-packages\\tensorflow_core\\python\\ops\\resource_variable_ops.py:1630: calling BaseResourceVariable.__init__ (from tensorflow.python.ops.resource_variable_ops) with constraint is deprecated and will be removed in a future version.\n",
      "Instructions for updating:\n",
      "If using Keras pass *_constraint arguments to layers.\n"
     ]
    }
   ],
   "source": [
    "model = models.Sequential()\n",
    "model.add(layers.Conv2D(32, (2, 2), activation='relu', input_shape=sample_shape))\n",
    "model.add(layers.MaxPooling2D(pool_size=(2, 2)))\n",
    "\n",
    "model.add(layers.Conv2D(32, (2, 2), activation='relu'))\n",
    "model.add(layers.MaxPooling2D(pool_size=(2, 2)))\n",
    "\n",
    "model.add(layers.Conv2D(64, (2, 2), activation='relu'))\n",
    "model.add(layers.MaxPooling2D(pool_size=(2, 2)))\n",
    "\n",
    "# Classifier\n",
    "model.add(layers.Flatten())\n",
    "model.add(layers.Dense(64, activation='relu'))\n",
    "model.add(layers.Dropout(0.5))\n",
    "model.add(layers.Dense(8, activation='softmax'))"
   ]
  },
  {
   "cell_type": "code",
   "execution_count": 13,
   "id": "interested-engineering",
   "metadata": {},
   "outputs": [],
   "source": [
    "model.compile(loss='sparse_categorical_crossentropy', \n",
    "              optimizer='adam', \n",
    "              metrics=['accuracy'])"
   ]
  },
  {
   "cell_type": "code",
   "execution_count": 14,
   "id": "governmental-brick",
   "metadata": {},
   "outputs": [
    {
     "name": "stdout",
     "output_type": "stream",
     "text": [
      "Train on 16835 samples, validate on 2110 samples\n",
      "Epoch 1/50\n",
      "16835/16835 [==============================] - 3s 158us/sample - loss: 1.6682 - acc: 0.3499 - val_loss: 1.0264 - val_acc: 0.6540\n",
      "Epoch 2/50\n",
      "16835/16835 [==============================] - 2s 118us/sample - loss: 1.0279 - acc: 0.6228 - val_loss: 0.7379 - val_acc: 0.7318\n",
      "Epoch 3/50\n",
      "16835/16835 [==============================] - 2s 118us/sample - loss: 0.8361 - acc: 0.7018 - val_loss: 0.6231 - val_acc: 0.7754\n",
      "Epoch 4/50\n",
      "16835/16835 [==============================] - 2s 119us/sample - loss: 0.7296 - acc: 0.7463 - val_loss: 0.5200 - val_acc: 0.8166\n",
      "Epoch 5/50\n",
      "16835/16835 [==============================] - 2s 126us/sample - loss: 0.6640 - acc: 0.7743 - val_loss: 0.4772 - val_acc: 0.8412\n",
      "Epoch 6/50\n",
      "16835/16835 [==============================] - 2s 124us/sample - loss: 0.6080 - acc: 0.7960 - val_loss: 0.4570 - val_acc: 0.8445\n",
      "Epoch 7/50\n",
      "16835/16835 [==============================] - 2s 126us/sample - loss: 0.5710 - acc: 0.8040 - val_loss: 0.4438 - val_acc: 0.8464\n",
      "Epoch 8/50\n",
      "16835/16835 [==============================] - 2s 122us/sample - loss: 0.5241 - acc: 0.8226 - val_loss: 0.3778 - val_acc: 0.8687\n",
      "Epoch 9/50\n",
      "16835/16835 [==============================] - 2s 137us/sample - loss: 0.4810 - acc: 0.8343 - val_loss: 0.3704 - val_acc: 0.8678\n",
      "Epoch 10/50\n",
      "16835/16835 [==============================] - 2s 132us/sample - loss: 0.4492 - acc: 0.8466 - val_loss: 0.3700 - val_acc: 0.8706\n",
      "Epoch 11/50\n",
      "16835/16835 [==============================] - 2s 132us/sample - loss: 0.4223 - acc: 0.8570 - val_loss: 0.3344 - val_acc: 0.8787\n",
      "Epoch 12/50\n",
      "16835/16835 [==============================] - 2s 123us/sample - loss: 0.4091 - acc: 0.8644 - val_loss: 0.3247 - val_acc: 0.8867\n",
      "Epoch 13/50\n",
      "16835/16835 [==============================] - 2s 133us/sample - loss: 0.3792 - acc: 0.8721 - val_loss: 0.3191 - val_acc: 0.8877\n",
      "Epoch 14/50\n",
      "16835/16835 [==============================] - 2s 131us/sample - loss: 0.3635 - acc: 0.8781 - val_loss: 0.3099 - val_acc: 0.8900\n",
      "Epoch 15/50\n",
      "16835/16835 [==============================] - 2s 135us/sample - loss: 0.3559 - acc: 0.8835 - val_loss: 0.3256 - val_acc: 0.8867\n",
      "Epoch 16/50\n",
      "16835/16835 [==============================] - 2s 131us/sample - loss: 0.3331 - acc: 0.8914 - val_loss: 0.3063 - val_acc: 0.8953\n",
      "Epoch 17/50\n",
      "16835/16835 [==============================] - 2s 134us/sample - loss: 0.3201 - acc: 0.8916 - val_loss: 0.3085 - val_acc: 0.8991\n",
      "Epoch 18/50\n",
      "16835/16835 [==============================] - 2s 131us/sample - loss: 0.3143 - acc: 0.8957 - val_loss: 0.2890 - val_acc: 0.9005\n",
      "Epoch 19/50\n",
      "16835/16835 [==============================] - 2s 128us/sample - loss: 0.3049 - acc: 0.8977 - val_loss: 0.2955 - val_acc: 0.9047\n",
      "Epoch 20/50\n",
      "16835/16835 [==============================] - 2s 128us/sample - loss: 0.2995 - acc: 0.9010 - val_loss: 0.2888 - val_acc: 0.9005\n",
      "Epoch 21/50\n",
      "16835/16835 [==============================] - 2s 128us/sample - loss: 0.2794 - acc: 0.9060 - val_loss: 0.3140 - val_acc: 0.8891\n",
      "Epoch 22/50\n",
      "16835/16835 [==============================] - 2s 132us/sample - loss: 0.2810 - acc: 0.9063 - val_loss: 0.2894 - val_acc: 0.9000\n",
      "Epoch 23/50\n",
      "16835/16835 [==============================] - 2s 131us/sample - loss: 0.2653 - acc: 0.9114 - val_loss: 0.2936 - val_acc: 0.9014\n",
      "Epoch 24/50\n",
      "16835/16835 [==============================] - 2s 130us/sample - loss: 0.2628 - acc: 0.9103 - val_loss: 0.2724 - val_acc: 0.9066\n",
      "Epoch 25/50\n",
      "16835/16835 [==============================] - 2s 131us/sample - loss: 0.2554 - acc: 0.9133 - val_loss: 0.2919 - val_acc: 0.9066\n",
      "Epoch 26/50\n",
      "16835/16835 [==============================] - 2s 128us/sample - loss: 0.2455 - acc: 0.9178 - val_loss: 0.3116 - val_acc: 0.8991\n",
      "Epoch 27/50\n",
      "16835/16835 [==============================] - 2s 133us/sample - loss: 0.2395 - acc: 0.9170 - val_loss: 0.2893 - val_acc: 0.9100\n",
      "Epoch 28/50\n",
      "16835/16835 [==============================] - 2s 144us/sample - loss: 0.2414 - acc: 0.9185 - val_loss: 0.2716 - val_acc: 0.9114\n",
      "Epoch 29/50\n",
      "16835/16835 [==============================] - 2s 138us/sample - loss: 0.2201 - acc: 0.9270 - val_loss: 0.2763 - val_acc: 0.9109\n",
      "Epoch 30/50\n",
      "16835/16835 [==============================] - 2s 137us/sample - loss: 0.2259 - acc: 0.9237 - val_loss: 0.2680 - val_acc: 0.9085\n",
      "Epoch 31/50\n",
      "16835/16835 [==============================] - 2s 128us/sample - loss: 0.2105 - acc: 0.9272 - val_loss: 0.2832 - val_acc: 0.9071\n",
      "Epoch 32/50\n",
      "16835/16835 [==============================] - 2s 131us/sample - loss: 0.2149 - acc: 0.9270 - val_loss: 0.3043 - val_acc: 0.9043\n",
      "Epoch 33/50\n",
      "16835/16835 [==============================] - 2s 136us/sample - loss: 0.1978 - acc: 0.9325 - val_loss: 0.3004 - val_acc: 0.9062\n",
      "Epoch 34/50\n",
      "16835/16835 [==============================] - 2s 143us/sample - loss: 0.2029 - acc: 0.9323 - val_loss: 0.2810 - val_acc: 0.9142\n",
      "Epoch 35/50\n",
      "16835/16835 [==============================] - 3s 151us/sample - loss: 0.1919 - acc: 0.9359 - val_loss: 0.2878 - val_acc: 0.9128\n",
      "Epoch 36/50\n",
      "16835/16835 [==============================] - 2s 146us/sample - loss: 0.1850 - acc: 0.9376 - val_loss: 0.2908 - val_acc: 0.9118\n",
      "Epoch 37/50\n",
      "16835/16835 [==============================] - 2s 141us/sample - loss: 0.1890 - acc: 0.9359 - val_loss: 0.2839 - val_acc: 0.9137\n",
      "Epoch 38/50\n",
      "16835/16835 [==============================] - 2s 134us/sample - loss: 0.1895 - acc: 0.9349 - val_loss: 0.2802 - val_acc: 0.9147\n",
      "Epoch 39/50\n",
      "16835/16835 [==============================] - 2s 135us/sample - loss: 0.1786 - acc: 0.9387 - val_loss: 0.2893 - val_acc: 0.9171\n",
      "Epoch 40/50\n",
      "16835/16835 [==============================] - 2s 134us/sample - loss: 0.1764 - acc: 0.9391 - val_loss: 0.2870 - val_acc: 0.9142\n",
      "Epoch 41/50\n",
      "16835/16835 [==============================] - 2s 133us/sample - loss: 0.1749 - acc: 0.9407 - val_loss: 0.3426 - val_acc: 0.9014\n",
      "Epoch 42/50\n",
      "16835/16835 [==============================] - 2s 136us/sample - loss: 0.1715 - acc: 0.9432 - val_loss: 0.3935 - val_acc: 0.8882\n",
      "Epoch 43/50\n",
      "16835/16835 [==============================] - 2s 130us/sample - loss: 0.1668 - acc: 0.9442 - val_loss: 0.2889 - val_acc: 0.9152\n",
      "Epoch 44/50\n",
      "16835/16835 [==============================] - 2s 144us/sample - loss: 0.1585 - acc: 0.9465 - val_loss: 0.3158 - val_acc: 0.9100\n",
      "Epoch 45/50\n",
      "16835/16835 [==============================] - 2s 134us/sample - loss: 0.1657 - acc: 0.9420 - val_loss: 0.3336 - val_acc: 0.9057\n",
      "Epoch 46/50\n",
      "16835/16835 [==============================] - 2s 133us/sample - loss: 0.1549 - acc: 0.9477 - val_loss: 0.3111 - val_acc: 0.9071\n",
      "Epoch 47/50\n",
      "16835/16835 [==============================] - 2s 131us/sample - loss: 0.1701 - acc: 0.9408 - val_loss: 0.3091 - val_acc: 0.9100\n",
      "Epoch 48/50\n",
      "16835/16835 [==============================] - 2s 136us/sample - loss: 0.1490 - acc: 0.9470 - val_loss: 0.3274 - val_acc: 0.9133\n",
      "Epoch 49/50\n",
      "16835/16835 [==============================] - 2s 141us/sample - loss: 0.1480 - acc: 0.9478 - val_loss: 0.3098 - val_acc: 0.9118\n",
      "Epoch 50/50\n",
      "16835/16835 [==============================] - 2s 134us/sample - loss: 0.1418 - acc: 0.9515 - val_loss: 0.3332 - val_acc: 0.9090\n"
     ]
    }
   ],
   "source": [
    "history = model.fit(x_train, \n",
    "                    y_train, \n",
    "                    epochs=50, \n",
    "                    batch_size=100, \n",
    "                    validation_data=(x_val, y_val))"
   ]
  },
  {
   "cell_type": "code",
   "execution_count": 15,
   "id": "stable-viewer",
   "metadata": {},
   "outputs": [
    {
     "name": "stdout",
     "output_type": "stream",
     "text": [
      "2118/2118 [==============================] - 0s 55us/sample - loss: 0.3887 - acc: 0.9008\n"
     ]
    },
    {
     "data": {
      "text/plain": [
       "[0.3887217147407721, 0.9008499]"
      ]
     },
     "execution_count": 15,
     "metadata": {},
     "output_type": "execute_result"
    }
   ],
   "source": [
    "model.evaluate(x_test, y_test)"
   ]
  },
  {
   "cell_type": "code",
   "execution_count": 16,
   "id": "exempt-ethnic",
   "metadata": {},
   "outputs": [
    {
     "data": {
      "text/plain": [
       "'command_detection_model.h5'"
      ]
     },
     "execution_count": 16,
     "metadata": {},
     "output_type": "execute_result"
    }
   ],
   "source": [
    "model_filename"
   ]
  },
  {
   "cell_type": "code",
   "execution_count": 17,
   "id": "elementary-success",
   "metadata": {},
   "outputs": [],
   "source": [
    "model.save(model_filename)"
   ]
  },
  {
   "cell_type": "code",
   "execution_count": 22,
   "id": "about-reggae",
   "metadata": {},
   "outputs": [],
   "source": [
    "from tensorflow import lite"
   ]
  },
  {
   "cell_type": "code",
   "execution_count": 24,
   "id": "finite-disco",
   "metadata": {},
   "outputs": [],
   "source": [
    "keras_model_filename=\"C:/Users/USER/Desktop/snow_bois/Commands_feature_extraction/command_detection_model.h5\"\n",
    "filename=\"model.tflite\""
   ]
  },
  {
   "cell_type": "code",
   "execution_count": 25,
   "id": "recognized-illustration",
   "metadata": {},
   "outputs": [
    {
     "ename": "AttributeError",
     "evalue": "'str' object has no attribute 'decode'",
     "output_type": "error",
     "traceback": [
      "\u001b[1;31m---------------------------------------------------------------------------\u001b[0m",
      "\u001b[1;31mAttributeError\u001b[0m                            Traceback (most recent call last)",
      "\u001b[1;32m<ipython-input-25-a7217acd4f4a>\u001b[0m in \u001b[0;36m<module>\u001b[1;34m\u001b[0m\n\u001b[1;32m----> 1\u001b[1;33m \u001b[0mmodel\u001b[0m\u001b[1;33m=\u001b[0m\u001b[0mmodels\u001b[0m\u001b[1;33m.\u001b[0m\u001b[0mload_model\u001b[0m\u001b[1;33m(\u001b[0m\u001b[0mkeras_model_filename\u001b[0m\u001b[1;33m)\u001b[0m\u001b[1;33m\u001b[0m\u001b[1;33m\u001b[0m\u001b[0m\n\u001b[0m\u001b[0;32m      2\u001b[0m \u001b[0mconverter\u001b[0m\u001b[1;33m=\u001b[0m\u001b[0mlite\u001b[0m\u001b[1;33m.\u001b[0m\u001b[0mTFLiteConverter\u001b[0m\u001b[1;33m.\u001b[0m\u001b[0mfrom_keras_model\u001b[0m\u001b[1;33m(\u001b[0m\u001b[0mmodel\u001b[0m\u001b[1;33m)\u001b[0m\u001b[1;33m\u001b[0m\u001b[1;33m\u001b[0m\u001b[0m\n\u001b[0;32m      3\u001b[0m \u001b[0mtflite\u001b[0m\u001b[1;33m=\u001b[0m\u001b[0mconverter\u001b[0m\u001b[1;33m.\u001b[0m\u001b[0mconvert\u001b[0m\u001b[1;33m(\u001b[0m\u001b[1;33m)\u001b[0m\u001b[1;33m\u001b[0m\u001b[1;33m\u001b[0m\u001b[0m\n\u001b[0;32m      4\u001b[0m \u001b[0mopen\u001b[0m \u001b[1;33m(\u001b[0m\u001b[0mfilename\u001b[0m\u001b[1;33m,\u001b[0m\u001b[1;34m\"wb\"\u001b[0m\u001b[1;33m)\u001b[0m\u001b[1;33m.\u001b[0m\u001b[0mwrite\u001b[0m\u001b[1;33m(\u001b[0m\u001b[0mtflite\u001b[0m\u001b[1;33m)\u001b[0m\u001b[1;33m\u001b[0m\u001b[1;33m\u001b[0m\u001b[0m\n",
      "\u001b[1;32mc:\\users\\user\\appdata\\local\\programs\\python\\python37\\lib\\site-packages\\tensorflow_core\\python\\keras\\saving\\save.py\u001b[0m in \u001b[0;36mload_model\u001b[1;34m(filepath, custom_objects, compile)\u001b[0m\n\u001b[0;32m    141\u001b[0m   if (h5py is not None and (\n\u001b[0;32m    142\u001b[0m       isinstance(filepath, h5py.File) or h5py.is_hdf5(filepath))):\n\u001b[1;32m--> 143\u001b[1;33m     \u001b[1;32mreturn\u001b[0m \u001b[0mhdf5_format\u001b[0m\u001b[1;33m.\u001b[0m\u001b[0mload_model_from_hdf5\u001b[0m\u001b[1;33m(\u001b[0m\u001b[0mfilepath\u001b[0m\u001b[1;33m,\u001b[0m \u001b[0mcustom_objects\u001b[0m\u001b[1;33m,\u001b[0m \u001b[0mcompile\u001b[0m\u001b[1;33m)\u001b[0m\u001b[1;33m\u001b[0m\u001b[1;33m\u001b[0m\u001b[0m\n\u001b[0m\u001b[0;32m    144\u001b[0m \u001b[1;33m\u001b[0m\u001b[0m\n\u001b[0;32m    145\u001b[0m   \u001b[1;32mif\u001b[0m \u001b[0misinstance\u001b[0m\u001b[1;33m(\u001b[0m\u001b[0mfilepath\u001b[0m\u001b[1;33m,\u001b[0m \u001b[0msix\u001b[0m\u001b[1;33m.\u001b[0m\u001b[0mstring_types\u001b[0m\u001b[1;33m)\u001b[0m\u001b[1;33m:\u001b[0m\u001b[1;33m\u001b[0m\u001b[1;33m\u001b[0m\u001b[0m\n",
      "\u001b[1;32mc:\\users\\user\\appdata\\local\\programs\\python\\python37\\lib\\site-packages\\tensorflow_core\\python\\keras\\saving\\hdf5_format.py\u001b[0m in \u001b[0;36mload_model_from_hdf5\u001b[1;34m(filepath, custom_objects, compile)\u001b[0m\n\u001b[0;32m    158\u001b[0m     \u001b[1;32mif\u001b[0m \u001b[0mmodel_config\u001b[0m \u001b[1;32mis\u001b[0m \u001b[1;32mNone\u001b[0m\u001b[1;33m:\u001b[0m\u001b[1;33m\u001b[0m\u001b[1;33m\u001b[0m\u001b[0m\n\u001b[0;32m    159\u001b[0m       \u001b[1;32mraise\u001b[0m \u001b[0mValueError\u001b[0m\u001b[1;33m(\u001b[0m\u001b[1;34m'No model found in config file.'\u001b[0m\u001b[1;33m)\u001b[0m\u001b[1;33m\u001b[0m\u001b[1;33m\u001b[0m\u001b[0m\n\u001b[1;32m--> 160\u001b[1;33m     \u001b[0mmodel_config\u001b[0m \u001b[1;33m=\u001b[0m \u001b[0mjson\u001b[0m\u001b[1;33m.\u001b[0m\u001b[0mloads\u001b[0m\u001b[1;33m(\u001b[0m\u001b[0mmodel_config\u001b[0m\u001b[1;33m.\u001b[0m\u001b[0mdecode\u001b[0m\u001b[1;33m(\u001b[0m\u001b[1;34m'utf-8'\u001b[0m\u001b[1;33m)\u001b[0m\u001b[1;33m)\u001b[0m\u001b[1;33m\u001b[0m\u001b[1;33m\u001b[0m\u001b[0m\n\u001b[0m\u001b[0;32m    161\u001b[0m     model = model_config_lib.model_from_config(model_config,\n\u001b[0;32m    162\u001b[0m                                                custom_objects=custom_objects)\n",
      "\u001b[1;31mAttributeError\u001b[0m: 'str' object has no attribute 'decode'"
     ]
    }
   ],
   "source": [
    "model=models.load_model(keras_model_filename)\n",
    "converter=lite.TFLiteConverter.from_keras_model(model)\n",
    "tflite=converter.convert()\n",
    "open (filename,\"wb\").write(tflite)"
   ]
  },
  {
   "cell_type": "code",
   "execution_count": null,
   "id": "protective-sleep",
   "metadata": {},
   "outputs": [],
   "source": []
  }
 ],
 "metadata": {
  "kernelspec": {
   "display_name": "Python 3",
   "language": "python",
   "name": "python3"
  },
  "language_info": {
   "codemirror_mode": {
    "name": "ipython",
    "version": 3
   },
   "file_extension": ".py",
   "mimetype": "text/x-python",
   "name": "python",
   "nbconvert_exporter": "python",
   "pygments_lexer": "ipython3",
   "version": "3.7.9"
  }
 },
 "nbformat": 4,
 "nbformat_minor": 5
}

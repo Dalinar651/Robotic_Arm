{
 "cells": [
  {
   "cell_type": "code",
   "execution_count": 1,
   "id": "federal-potential",
   "metadata": {},
   "outputs": [],
   "source": [
    "from os import listdir\n",
    "from os.path import isdir, join\n",
    "from tensorflow.keras import layers, models\n",
    "import numpy as np"
   ]
  },
  {
   "cell_type": "code",
   "execution_count": 2,
   "id": "relative-pharmacology",
   "metadata": {},
   "outputs": [
    {
     "name": "stdout",
     "output_type": "stream",
     "text": [
      "['bed', 'bird', 'cat', 'dog', 'down', 'eight', 'five', 'four', 'go', 'happy', 'house', 'left', 'marvin', 'nine', 'no', 'off', 'on', 'one', 'right', 'seven', 'sheila', 'six', 'stop', 'three', 'tree', 'two', 'up', 'wow', 'yes', 'zero', '_background_noise_']\n"
     ]
    }
   ],
   "source": [
    "dataset_path = 'Documents\\speech_commands_v0.01'\n",
    "all_targets = [name for name in listdir(dataset_path) if isdir(join(dataset_path, name))]\n",
    "print(all_targets)"
   ]
  },
  {
   "cell_type": "code",
   "execution_count": 3,
   "id": "cheap-synthesis",
   "metadata": {},
   "outputs": [
    {
     "data": {
      "text/plain": [
       "['down', 'left', 'right', 'stop', 'up']"
      ]
     },
     "execution_count": 3,
     "metadata": {},
     "output_type": "execute_result"
    }
   ],
   "source": [
    "commands = [all_targets[i] for i in [4,11,18,22,26]]\n",
    "commands"
   ]
  },
  {
   "cell_type": "code",
   "execution_count": 4,
   "id": "simple-circuit",
   "metadata": {},
   "outputs": [],
   "source": [
    "# Settings\n",
    "feature_sets_filename = 'commands_mfcc_sets.npz'\n",
    "model_filename ='command_detection_model.h5'\n",
    "labels = ['down', 'left', 'right', 'stop', 'up']"
   ]
  },
  {
   "cell_type": "code",
   "execution_count": 5,
   "id": "humanitarian-process",
   "metadata": {},
   "outputs": [
    {
     "name": "stdout",
     "output_type": "stream",
     "text": [
      "['x_train', 'y_train', 'x_val', 'y_val', 'x_test', 'y_test']\n"
     ]
    }
   ],
   "source": [
    "feature_sets = np.load(feature_sets_filename)\n",
    "print(feature_sets.files)"
   ]
  },
  {
   "cell_type": "code",
   "execution_count": 6,
   "id": "damaged-syntax",
   "metadata": {},
   "outputs": [],
   "source": [
    "x_train = feature_sets['x_train']\n",
    "y_train = feature_sets['y_train']\n",
    "x_val = feature_sets['x_val']\n",
    "y_val = feature_sets['y_val']\n",
    "x_test = feature_sets['x_test']\n",
    "y_test = feature_sets['y_test']"
   ]
  },
  {
   "cell_type": "code",
   "execution_count": 29,
   "id": "insured-confidentiality",
   "metadata": {},
   "outputs": [
    {
     "name": "stdout",
     "output_type": "stream",
     "text": [
      "(8726, 16, 16, 1)\n",
      "(1085, 16, 16, 1)\n",
      "(1100, 16, 16, 1)\n"
     ]
    }
   ],
   "source": [
    "# CNN for TF expects (batch, height, width, channels)\n",
    "# So we reshape the input tensors with a \"color\" channel of 1\n",
    "x_train = x_train.reshape(x_train.shape[0], \n",
    "                          x_train.shape[1], \n",
    "                          x_train.shape[2], \n",
    "                          1)\n",
    "x_val = x_val.reshape(x_val.shape[0], \n",
    "                      x_val.shape[1], \n",
    "                      x_val.shape[2], \n",
    "                      1)\n",
    "x_test = x_test.reshape(x_test.shape[0], \n",
    "                        x_test.shape[1], \n",
    "                        x_test.shape[2], \n",
    "                        1)\n",
    "print(x_train.shape)\n",
    "print(x_val.shape)\n",
    "print(x_test.shape)"
   ]
  },
  {
   "cell_type": "code",
   "execution_count": 30,
   "id": "controlled-stadium",
   "metadata": {},
   "outputs": [
    {
     "name": "stdout",
     "output_type": "stream",
     "text": [
      "(16, 16, 1)\n"
     ]
    }
   ],
   "source": [
    "sample_shape = x_test.shape[1:]\n",
    "print(sample_shape)"
   ]
  },
  {
   "cell_type": "code",
   "execution_count": 37,
   "id": "honest-reminder",
   "metadata": {},
   "outputs": [],
   "source": [
    "model = models.Sequential()\n",
    "model.add(layers.Conv2D(32, \n",
    "                        (2, 2), \n",
    "                        activation='relu',\n",
    "                        input_shape=sample_shape))\n",
    "model.add(layers.MaxPooling2D(pool_size=(2, 2)))\n",
    "\n",
    "model.add(layers.Conv2D(32, (2, 2), activation='relu'))\n",
    "model.add(layers.MaxPooling2D(pool_size=(2, 2)))\n",
    "\n",
    "model.add(layers.Conv2D(64, (2, 2), activation='relu'))\n",
    "model.add(layers.MaxPooling2D(pool_size=(2, 2)))\n",
    "\n",
    "# Classifier\n",
    "model.add(layers.Flatten())\n",
    "model.add(layers.Dense(64, activation='relu'))\n",
    "model.add(layers.Dropout(0.5))\n",
    "model.add(layers.Dense(5, activation='softmax'))"
   ]
  },
  {
   "cell_type": "code",
   "execution_count": 38,
   "id": "stunning-daily",
   "metadata": {},
   "outputs": [],
   "source": [
    "model.compile(loss='sparse_categorical_crossentropy', \n",
    "              optimizer='rmsprop', \n",
    "              metrics=['acc'])"
   ]
  },
  {
   "cell_type": "code",
   "execution_count": 39,
   "id": "actual-actor",
   "metadata": {},
   "outputs": [
    {
     "name": "stdout",
     "output_type": "stream",
     "text": [
      "Epoch 1/30\n",
      "88/88 [==============================] - 1s 17ms/step - loss: 0.0194 - acc: 0.1984 - val_loss: 6.5063 - val_acc: 0.2009\n",
      "Epoch 2/30\n",
      "88/88 [==============================] - 1s 13ms/step - loss: 1.2748e-04 - acc: 0.1997 - val_loss: 11.1215 - val_acc: 0.2009\n",
      "Epoch 3/30\n",
      "88/88 [==============================] - 1s 13ms/step - loss: 7.2720e-05 - acc: 0.1997 - val_loss: 17.5763 - val_acc: 0.2009\n",
      "Epoch 4/30\n",
      "88/88 [==============================] - 1s 14ms/step - loss: 1.2886e-07 - acc: 0.1997 - val_loss: 19.0294 - val_acc: 0.2009\n",
      "Epoch 5/30\n",
      "88/88 [==============================] - 1s 14ms/step - loss: 5.0043e-04 - acc: 0.1996 - val_loss: 19.3728 - val_acc: 0.2009\n",
      "Epoch 6/30\n",
      "88/88 [==============================] - 1s 14ms/step - loss: 4.0024e-08 - acc: 0.1997 - val_loss: 20.1075 - val_acc: 0.2009\n",
      "Epoch 7/30\n",
      "88/88 [==============================] - 1s 14ms/step - loss: 7.6581e-07 - acc: 0.1997 - val_loss: 25.4510 - val_acc: 0.2009\n",
      "Epoch 8/30\n",
      "88/88 [==============================] - 1s 14ms/step - loss: 4.4262e-09 - acc: 0.1997 - val_loss: 26.2354 - val_acc: 0.2009\n",
      "Epoch 9/30\n",
      "88/88 [==============================] - 1s 14ms/step - loss: 1.7807e-04 - acc: 0.1997 - val_loss: 30.9326 - val_acc: 0.2009\n",
      "Epoch 10/30\n",
      "88/88 [==============================] - 1s 14ms/step - loss: 0.0000e+00 - acc: 0.1997 - val_loss: 30.9304 - val_acc: 0.2009\n",
      "Epoch 11/30\n",
      "88/88 [==============================] - 1s 15ms/step - loss: 4.4376e-07 - acc: 0.1997 - val_loss: 40.4424 - val_acc: 0.2009\n",
      "Epoch 12/30\n",
      "88/88 [==============================] - 1s 16ms/step - loss: 9.7214e-08 - acc: 0.1997 - val_loss: 42.6108 - val_acc: 0.2009\n",
      "Epoch 13/30\n",
      "88/88 [==============================] - 1s 14ms/step - loss: 0.0000e+00 - acc: 0.1997 - val_loss: 42.6110 - val_acc: 0.2009\n",
      "Epoch 14/30\n",
      "88/88 [==============================] - 1s 14ms/step - loss: 1.0847e-08 - acc: 0.1997 - val_loss: 46.5154 - val_acc: 0.2009\n",
      "Epoch 15/30\n",
      "88/88 [==============================] - 1s 14ms/step - loss: 1.9399e-09 - acc: 0.1997 - val_loss: 48.0724 - val_acc: 0.2009\n",
      "Epoch 16/30\n",
      "88/88 [==============================] - 1s 14ms/step - loss: 0.0000e+00 - acc: 0.1997 - val_loss: 48.0724 - val_acc: 0.2009\n",
      "Epoch 17/30\n",
      "88/88 [==============================] - 1s 14ms/step - loss: 1.2295e-10 - acc: 0.1997 - val_loss: 48.3086 - val_acc: 0.2009\n",
      "Epoch 18/30\n",
      "88/88 [==============================] - 1s 14ms/step - loss: 1.7350e-09 - acc: 0.1997 - val_loss: 49.3986 - val_acc: 0.2009\n",
      "Epoch 19/30\n",
      "88/88 [==============================] - 1s 14ms/step - loss: 2.7323e-11 - acc: 0.1997 - val_loss: 49.4744 - val_acc: 0.2009\n",
      "Epoch 20/30\n",
      "88/88 [==============================] - 1s 14ms/step - loss: 5.3005e-09 - acc: 0.1997 - val_loss: 52.3079 - val_acc: 0.2009\n",
      "Epoch 21/30\n",
      "88/88 [==============================] - 1s 14ms/step - loss: 0.0000e+00 - acc: 0.1997 - val_loss: 52.3079 - val_acc: 0.2009\n",
      "Epoch 22/30\n",
      "88/88 [==============================] - 1s 14ms/step - loss: 0.0000e+00 - acc: 0.1997 - val_loss: 52.2665 - val_acc: 0.2009\n",
      "Epoch 23/30\n",
      "88/88 [==============================] - 1s 14ms/step - loss: 0.0000e+00 - acc: 0.1997 - val_loss: 52.2679 - val_acc: 0.2009\n",
      "Epoch 24/30\n",
      "88/88 [==============================] - 1s 15ms/step - loss: 2.3032e-08 - acc: 0.1997 - val_loss: 59.4989 - val_acc: 0.2009\n",
      "Epoch 25/30\n",
      "88/88 [==============================] - 1s 16ms/step - loss: 0.0000e+00 - acc: 0.1997 - val_loss: 59.4981 - val_acc: 0.2009\n",
      "Epoch 26/30\n",
      "88/88 [==============================] - 1s 14ms/step - loss: 3.1421e-10 - acc: 0.1997 - val_loss: 59.9786 - val_acc: 0.2009\n",
      "Epoch 27/30\n",
      "88/88 [==============================] - 1s 14ms/step - loss: 2.7323e-11 - acc: 0.1997 - val_loss: 60.0450 - val_acc: 0.2009\n",
      "Epoch 28/30\n",
      "88/88 [==============================] - 1s 13ms/step - loss: 0.0000e+00 - acc: 0.1997 - val_loss: 60.0449 - val_acc: 0.2009\n",
      "Epoch 29/30\n",
      "88/88 [==============================] - 1s 14ms/step - loss: 0.0000e+00 - acc: 0.1997 - val_loss: 60.0449 - val_acc: 0.2009\n",
      "Epoch 30/30\n",
      "88/88 [==============================] - 1s 14ms/step - loss: 0.0000e+00 - acc: 0.1997 - val_loss: 60.0449 - val_acc: 0.2009\n"
     ]
    }
   ],
   "source": [
    "history = model.fit(x_train, \n",
    "                    y_train, \n",
    "                    epochs=30, \n",
    "                    batch_size=100, \n",
    "                    validation_data=(x_val, y_val))"
   ]
  },
  {
   "cell_type": "code",
   "execution_count": 15,
   "id": "killing-conservation",
   "metadata": {},
   "outputs": [
    {
     "name": "stdout",
     "output_type": "stream",
     "text": [
      "35/35 [==============================] - 0s 3ms/step - loss: -7028546207744.0000 - acc: 0.2164\n"
     ]
    },
    {
     "data": {
      "text/plain": [
       "[-7028546207744.0, 0.21636363863945007]"
      ]
     },
     "execution_count": 15,
     "metadata": {},
     "output_type": "execute_result"
    }
   ],
   "source": [
    "model.evaluate(x_test, y_test)"
   ]
  },
  {
   "cell_type": "code",
   "execution_count": null,
   "id": "center-bracelet",
   "metadata": {},
   "outputs": [],
   "source": []
  }
 ],
 "metadata": {
  "kernelspec": {
   "display_name": "Python 3",
   "language": "python",
   "name": "python3"
  },
  "language_info": {
   "codemirror_mode": {
    "name": "ipython",
    "version": 3
   },
   "file_extension": ".py",
   "mimetype": "text/x-python",
   "name": "python",
   "nbconvert_exporter": "python",
   "pygments_lexer": "ipython3",
   "version": "3.8.5"
  }
 },
 "nbformat": 4,
 "nbformat_minor": 5
}
